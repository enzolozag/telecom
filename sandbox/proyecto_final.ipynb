{
 "cells": [
  {
   "cell_type": "markdown",
   "metadata": {
    "tags": []
   },
   "source": [
    "# Introducción"
   ]
  },
  {
   "cell_type": "markdown",
   "metadata": {
    "tags": []
   },
   "source": [
    "# Preprocesamiento y exploración de datos"
   ]
  },
  {
   "cell_type": "markdown",
   "metadata": {},
   "source": [
    "## Descripción de los datos"
   ]
  },
  {
   "cell_type": "markdown",
   "metadata": {},
   "source": [
    "Los datos consisten en archivos obtenidos de diferentes fuentes:\n",
    "\n",
    "- `personal.csv` — información del contrato;\n",
    "    - `customerID` - id del cliente\n",
    "    - `BeginDate`\n",
    "    - `EndDate`\n",
    "    - `Type`\n",
    "    - `PaperlessBilling`\n",
    "    - `PaymentMethod`\n",
    "    - `MonthlyCharges`\n",
    "    - `TotalCharges`\n",
    "- `personal.csv` — datos personales del cliente;\n",
    "- `internet.csv` — información sobre los servicios de Internet;\n",
    "- `phone.csv` — información sobre los servicios telefónicos."
   ]
  },
  {
   "cell_type": "markdown",
   "metadata": {},
   "source": [
    "- **Objetivo**: `EndDate` = `'No'`\n"
   ]
  },
  {
   "cell_type": "markdown",
   "metadata": {},
   "source": [
    "## Importacíon de librerías"
   ]
  },
  {
   "cell_type": "code",
   "execution_count": null,
   "metadata": {},
   "outputs": [],
   "source": [
    "import pandas as pd\n",
    "import matplotlib.pyplot as plt\n",
    "import numpy as np\n",
    "import seaborn as sns\n",
    "\n"
   ]
  },
  {
   "cell_type": "code",
   "execution_count": 183,
   "metadata": {},
   "outputs": [],
   "source": [
    "# Funciones\n",
    "from functions.functions import df_explore\n",
    "from functions.functions import df_error_checking"
   ]
  },
  {
   "cell_type": "markdown",
   "metadata": {},
   "source": [
    "## Exploración de datos"
   ]
  },
  {
   "cell_type": "code",
   "execution_count": 184,
   "metadata": {},
   "outputs": [],
   "source": [
    "contract = pd.read_csv('datasets/contract.csv')\n",
    "personal = pd.read_csv('datasets/personal.csv')\n",
    "internet = pd.read_csv('datasets/internet.csv')\n",
    "phone = pd.read_csv('datasets/phone.csv')"
   ]
  },
  {
   "cell_type": "code",
   "execution_count": 185,
   "metadata": {},
   "outputs": [
    {
     "name": "stdout",
     "output_type": "stream",
     "text": [
      "Información del DataFrame:\n",
      "<class 'pandas.core.frame.DataFrame'>\n",
      "RangeIndex: 7043 entries, 0 to 7042\n",
      "Data columns (total 8 columns):\n",
      " #   Column            Non-Null Count  Dtype  \n",
      "---  ------            --------------  -----  \n",
      " 0   customerID        7043 non-null   object \n",
      " 1   BeginDate         7043 non-null   object \n",
      " 2   EndDate           7043 non-null   object \n",
      " 3   Type              7043 non-null   object \n",
      " 4   PaperlessBilling  7043 non-null   object \n",
      " 5   PaymentMethod     7043 non-null   object \n",
      " 6   MonthlyCharges    7043 non-null   float64\n",
      " 7   TotalCharges      7043 non-null   object \n",
      "dtypes: float64(1), object(7)\n",
      "memory usage: 440.3+ KB\n",
      "\n",
      "Primeras filas del DataFrame:\n",
      "   customerID   BeginDate              EndDate            Type  \\\n",
      "0  7590-VHVEG  2020-01-01                   No  Month-to-month   \n",
      "1  5575-GNVDE  2017-04-01                   No        One year   \n",
      "2  3668-QPYBK  2019-10-01  2019-12-01 00:00:00  Month-to-month   \n",
      "3  7795-CFOCW  2016-05-01                   No        One year   \n",
      "4  9237-HQITU  2019-09-01  2019-11-01 00:00:00  Month-to-month   \n",
      "\n",
      "  PaperlessBilling              PaymentMethod  MonthlyCharges TotalCharges  \n",
      "0              Yes           Electronic check           29.85        29.85  \n",
      "1               No               Mailed check           56.95       1889.5  \n",
      "2              Yes               Mailed check           53.85       108.15  \n",
      "3               No  Bank transfer (automatic)           42.30      1840.75  \n",
      "4              Yes           Electronic check           70.70       151.65  \n",
      "\n",
      "Descripción estadística:\n",
      "        customerID   BeginDate EndDate            Type PaperlessBilling  \\\n",
      "count         7043        7043    7043            7043             7043   \n",
      "unique        7043          77       5               3                2   \n",
      "top     7590-VHVEG  2014-02-01      No  Month-to-month              Yes   \n",
      "freq             1         366    5174            3875             4171   \n",
      "mean           NaN         NaN     NaN             NaN              NaN   \n",
      "std            NaN         NaN     NaN             NaN              NaN   \n",
      "min            NaN         NaN     NaN             NaN              NaN   \n",
      "25%            NaN         NaN     NaN             NaN              NaN   \n",
      "50%            NaN         NaN     NaN             NaN              NaN   \n",
      "75%            NaN         NaN     NaN             NaN              NaN   \n",
      "max            NaN         NaN     NaN             NaN              NaN   \n",
      "\n",
      "           PaymentMethod  MonthlyCharges TotalCharges  \n",
      "count               7043     7043.000000         7043  \n",
      "unique                 4             NaN         6531  \n",
      "top     Electronic check             NaN               \n",
      "freq                2365             NaN           11  \n",
      "mean                 NaN       64.761692          NaN  \n",
      "std                  NaN       30.090047          NaN  \n",
      "min                  NaN       18.250000          NaN  \n",
      "25%                  NaN       35.500000          NaN  \n",
      "50%                  NaN       70.350000          NaN  \n",
      "75%                  NaN       89.850000          NaN  \n",
      "max                  NaN      118.750000          NaN  \n"
     ]
    }
   ],
   "source": [
    "df_explore(contract)"
   ]
  },
  {
   "cell_type": "code",
   "execution_count": 186,
   "metadata": {},
   "outputs": [
    {
     "name": "stdout",
     "output_type": "stream",
     "text": [
      "Información del DataFrame:\n",
      "<class 'pandas.core.frame.DataFrame'>\n",
      "RangeIndex: 7043 entries, 0 to 7042\n",
      "Data columns (total 5 columns):\n",
      " #   Column         Non-Null Count  Dtype \n",
      "---  ------         --------------  ----- \n",
      " 0   customerID     7043 non-null   object\n",
      " 1   gender         7043 non-null   object\n",
      " 2   SeniorCitizen  7043 non-null   int64 \n",
      " 3   Partner        7043 non-null   object\n",
      " 4   Dependents     7043 non-null   object\n",
      "dtypes: int64(1), object(4)\n",
      "memory usage: 275.2+ KB\n",
      "\n",
      "Primeras filas del DataFrame:\n",
      "   customerID  gender  SeniorCitizen Partner Dependents\n",
      "0  7590-VHVEG  Female              0     Yes         No\n",
      "1  5575-GNVDE    Male              0      No         No\n",
      "2  3668-QPYBK    Male              0      No         No\n",
      "3  7795-CFOCW    Male              0      No         No\n",
      "4  9237-HQITU  Female              0      No         No\n",
      "\n",
      "Descripción estadística:\n",
      "        customerID gender  SeniorCitizen Partner Dependents\n",
      "count         7043   7043    7043.000000    7043       7043\n",
      "unique        7043      2            NaN       2          2\n",
      "top     7590-VHVEG   Male            NaN      No         No\n",
      "freq             1   3555            NaN    3641       4933\n",
      "mean           NaN    NaN       0.162147     NaN        NaN\n",
      "std            NaN    NaN       0.368612     NaN        NaN\n",
      "min            NaN    NaN       0.000000     NaN        NaN\n",
      "25%            NaN    NaN       0.000000     NaN        NaN\n",
      "50%            NaN    NaN       0.000000     NaN        NaN\n",
      "75%            NaN    NaN       0.000000     NaN        NaN\n",
      "max            NaN    NaN       1.000000     NaN        NaN\n"
     ]
    }
   ],
   "source": [
    "df_explore(personal)"
   ]
  },
  {
   "cell_type": "code",
   "execution_count": 187,
   "metadata": {},
   "outputs": [
    {
     "name": "stdout",
     "output_type": "stream",
     "text": [
      "Información del DataFrame:\n",
      "<class 'pandas.core.frame.DataFrame'>\n",
      "RangeIndex: 5517 entries, 0 to 5516\n",
      "Data columns (total 8 columns):\n",
      " #   Column            Non-Null Count  Dtype \n",
      "---  ------            --------------  ----- \n",
      " 0   customerID        5517 non-null   object\n",
      " 1   InternetService   5517 non-null   object\n",
      " 2   OnlineSecurity    5517 non-null   object\n",
      " 3   OnlineBackup      5517 non-null   object\n",
      " 4   DeviceProtection  5517 non-null   object\n",
      " 5   TechSupport       5517 non-null   object\n",
      " 6   StreamingTV       5517 non-null   object\n",
      " 7   StreamingMovies   5517 non-null   object\n",
      "dtypes: object(8)\n",
      "memory usage: 344.9+ KB\n",
      "\n",
      "Primeras filas del DataFrame:\n",
      "   customerID InternetService OnlineSecurity OnlineBackup DeviceProtection  \\\n",
      "0  7590-VHVEG             DSL             No          Yes               No   \n",
      "1  5575-GNVDE             DSL            Yes           No              Yes   \n",
      "2  3668-QPYBK             DSL            Yes          Yes               No   \n",
      "3  7795-CFOCW             DSL            Yes           No              Yes   \n",
      "4  9237-HQITU     Fiber optic             No           No               No   \n",
      "\n",
      "  TechSupport StreamingTV StreamingMovies  \n",
      "0          No          No              No  \n",
      "1          No          No              No  \n",
      "2          No          No              No  \n",
      "3         Yes          No              No  \n",
      "4          No          No              No  \n",
      "\n",
      "Descripción estadística:\n",
      "        customerID InternetService OnlineSecurity OnlineBackup  \\\n",
      "count         5517            5517           5517         5517   \n",
      "unique        5517               2              2            2   \n",
      "top     7590-VHVEG     Fiber optic             No           No   \n",
      "freq             1            3096           3498         3088   \n",
      "\n",
      "       DeviceProtection TechSupport StreamingTV StreamingMovies  \n",
      "count              5517        5517        5517            5517  \n",
      "unique                2           2           2               2  \n",
      "top                  No          No          No              No  \n",
      "freq               3095        3473        2810            2785  \n"
     ]
    }
   ],
   "source": [
    "df_explore(internet)"
   ]
  },
  {
   "cell_type": "code",
   "execution_count": 188,
   "metadata": {},
   "outputs": [
    {
     "name": "stdout",
     "output_type": "stream",
     "text": [
      "Información del DataFrame:\n",
      "<class 'pandas.core.frame.DataFrame'>\n",
      "RangeIndex: 6361 entries, 0 to 6360\n",
      "Data columns (total 2 columns):\n",
      " #   Column         Non-Null Count  Dtype \n",
      "---  ------         --------------  ----- \n",
      " 0   customerID     6361 non-null   object\n",
      " 1   MultipleLines  6361 non-null   object\n",
      "dtypes: object(2)\n",
      "memory usage: 99.5+ KB\n",
      "\n",
      "Primeras filas del DataFrame:\n",
      "   customerID MultipleLines\n",
      "0  5575-GNVDE            No\n",
      "1  3668-QPYBK            No\n",
      "2  9237-HQITU            No\n",
      "3  9305-CDSKC           Yes\n",
      "4  1452-KIOVK           Yes\n",
      "\n",
      "Descripción estadística:\n",
      "        customerID MultipleLines\n",
      "count         6361          6361\n",
      "unique        6361             2\n",
      "top     5575-GNVDE            No\n",
      "freq             1          3390\n"
     ]
    }
   ],
   "source": [
    "df_explore(phone)"
   ]
  },
  {
   "cell_type": "markdown",
   "metadata": {},
   "source": [
    "## Revisión de datos"
   ]
  },
  {
   "cell_type": "markdown",
   "metadata": {},
   "source": [
    "### contract DF"
   ]
  },
  {
   "cell_type": "code",
   "execution_count": 189,
   "metadata": {},
   "outputs": [
    {
     "name": "stdout",
     "output_type": "stream",
     "text": [
      "Columnas con valores ausentes: customerID          0\n",
      "BeginDate           0\n",
      "EndDate             0\n",
      "Type                0\n",
      "PaperlessBilling    0\n",
      "PaymentMethod       0\n",
      "MonthlyCharges      0\n",
      "TotalCharges        0\n",
      "dtype: int64\n",
      "\n",
      "Filas totalmente duplicadas: 0\n",
      "\n",
      "Duplicados en columna customerID: 0\n"
     ]
    }
   ],
   "source": [
    "df_error_checking(contract)"
   ]
  },
  {
   "cell_type": "code",
   "execution_count": 190,
   "metadata": {},
   "outputs": [],
   "source": [
    "contract['Churn'] = np.where(contract['EndDate'] == 'No', 0, 1)"
   ]
  },
  {
   "cell_type": "code",
   "execution_count": 191,
   "metadata": {},
   "outputs": [
    {
     "name": "stdout",
     "output_type": "stream",
     "text": [
      "Empty DataFrame\n",
      "Columns: [customerID, BeginDate, EndDate, Type, PaperlessBilling, PaymentMethod, MonthlyCharges, TotalCharges, Churn]\n",
      "Index: []\n"
     ]
    }
   ],
   "source": [
    "print(contract[contract['TotalCharges'].isnull()])"
   ]
  },
  {
   "cell_type": "code",
   "execution_count": 192,
   "metadata": {},
   "outputs": [
    {
     "name": "stderr",
     "output_type": "stream",
     "text": [
      "/var/folders/p5/ktpmth0j3514y8d1c9x8sd_00000gn/T/ipykernel_51911/2339174794.py:1: UserWarning: Could not infer format, so each element will be parsed individually, falling back to `dateutil`. To ensure parsing is consistent and as-expected, please specify a format.\n",
      "  contract['EndDate'] = pd.to_datetime(contract['EndDate'], errors='coerce')\n"
     ]
    }
   ],
   "source": [
    "contract['EndDate'] = pd.to_datetime(contract['EndDate'], errors='coerce')\n",
    "contract['BeginDate'] = pd.to_datetime(contract['BeginDate'], errors='coerce')\n",
    "contract['TotalCharges'] = pd.to_numeric(contract['TotalCharges'], errors='coerce')"
   ]
  },
  {
   "cell_type": "code",
   "execution_count": 193,
   "metadata": {},
   "outputs": [
    {
     "name": "stdout",
     "output_type": "stream",
     "text": [
      "Churn\n",
      "0    5174\n",
      "1    1869\n",
      "Name: count, dtype: int64\n"
     ]
    }
   ],
   "source": [
    "print(contract['Churn'].value_counts(dropna=False).sort_index())"
   ]
  },
  {
   "cell_type": "code",
   "execution_count": 194,
   "metadata": {},
   "outputs": [
    {
     "data": {
      "application/vnd.microsoft.datawrangler.viewer.v0+json": {
       "columns": [
        {
         "name": "index",
         "rawType": "int64",
         "type": "integer"
        },
        {
         "name": "customerID",
         "rawType": "object",
         "type": "string"
        },
        {
         "name": "BeginDate",
         "rawType": "datetime64[ns]",
         "type": "datetime"
        },
        {
         "name": "EndDate",
         "rawType": "datetime64[ns]",
         "type": "datetime"
        },
        {
         "name": "Type",
         "rawType": "object",
         "type": "string"
        },
        {
         "name": "MonthlyCharges",
         "rawType": "float64",
         "type": "float"
        },
        {
         "name": "TotalCharges",
         "rawType": "float64",
         "type": "float"
        },
        {
         "name": "Churn",
         "rawType": "int64",
         "type": "integer"
        }
       ],
       "conversionMethod": "pd.DataFrame",
       "ref": "41c752d3-3133-4b9d-b996-2661b180c525",
       "rows": [
        [
         "0",
         "7590-VHVEG",
         "2020-01-01 00:00:00",
         null,
         "Month-to-month",
         "29.85",
         "29.85",
         "0"
        ],
        [
         "1",
         "5575-GNVDE",
         "2017-04-01 00:00:00",
         null,
         "One year",
         "56.95",
         "1889.5",
         "0"
        ],
        [
         "2",
         "3668-QPYBK",
         "2019-10-01 00:00:00",
         "2019-12-01 00:00:00",
         "Month-to-month",
         "53.85",
         "108.15",
         "1"
        ],
        [
         "3",
         "7795-CFOCW",
         "2016-05-01 00:00:00",
         null,
         "One year",
         "42.3",
         "1840.75",
         "0"
        ],
        [
         "4",
         "9237-HQITU",
         "2019-09-01 00:00:00",
         "2019-11-01 00:00:00",
         "Month-to-month",
         "70.7",
         "151.65",
         "1"
        ],
        [
         "5",
         "9305-CDSKC",
         "2019-03-01 00:00:00",
         "2019-11-01 00:00:00",
         "Month-to-month",
         "99.65",
         "820.5",
         "1"
        ],
        [
         "6",
         "1452-KIOVK",
         "2018-04-01 00:00:00",
         null,
         "Month-to-month",
         "89.1",
         "1949.4",
         "0"
        ],
        [
         "7",
         "6713-OKOMC",
         "2019-04-01 00:00:00",
         null,
         "Month-to-month",
         "29.75",
         "301.9",
         "0"
        ],
        [
         "8",
         "7892-POOKP",
         "2017-07-01 00:00:00",
         "2019-11-01 00:00:00",
         "Month-to-month",
         "104.8",
         "3046.05",
         "1"
        ],
        [
         "9",
         "6388-TABGU",
         "2014-12-01 00:00:00",
         null,
         "One year",
         "56.15",
         "3487.95",
         "0"
        ],
        [
         "10",
         "9763-GRSKD",
         "2019-01-01 00:00:00",
         null,
         "Month-to-month",
         "49.95",
         "587.45",
         "0"
        ],
        [
         "11",
         "7469-LKBCI",
         "2018-10-01 00:00:00",
         null,
         "Two year",
         "18.95",
         "326.8",
         "0"
        ],
        [
         "12",
         "8091-TTVAX",
         "2015-04-01 00:00:00",
         null,
         "One year",
         "100.35",
         "5681.1",
         "0"
        ],
        [
         "13",
         "0280-XJGEX",
         "2015-09-01 00:00:00",
         "2019-10-01 00:00:00",
         "Month-to-month",
         "103.7",
         "5036.3",
         "1"
        ],
        [
         "14",
         "5129-JLPIS",
         "2018-01-01 00:00:00",
         null,
         "Month-to-month",
         "105.5",
         "2686.05",
         "0"
        ],
        [
         "15",
         "3655-SNQYZ",
         "2014-05-01 00:00:00",
         null,
         "Two year",
         "113.25",
         "7895.15",
         "0"
        ],
        [
         "16",
         "8191-XWSZG",
         "2015-10-01 00:00:00",
         null,
         "One year",
         "20.65",
         "1022.95",
         "0"
        ],
        [
         "17",
         "9959-WOFKT",
         "2014-03-01 00:00:00",
         null,
         "Two year",
         "106.7",
         "7382.25",
         "0"
        ],
        [
         "18",
         "4190-MFLUW",
         "2019-01-01 00:00:00",
         "2019-11-01 00:00:00",
         "Month-to-month",
         "55.2",
         "528.35",
         "1"
        ],
        [
         "19",
         "4183-MYFRB",
         "2018-05-01 00:00:00",
         null,
         "Month-to-month",
         "90.05",
         "1862.9",
         "0"
        ],
        [
         "20",
         "8779-QRDMV",
         "2019-11-01 00:00:00",
         "2019-12-01 00:00:00",
         "Month-to-month",
         "39.65",
         "39.65",
         "1"
        ],
        [
         "21",
         "1680-VDCWW",
         "2019-02-01 00:00:00",
         null,
         "One year",
         "19.8",
         "202.25",
         "0"
        ],
        [
         "22",
         "1066-JKSGK",
         "2019-11-01 00:00:00",
         "2019-12-01 00:00:00",
         "Month-to-month",
         "20.15",
         "20.15",
         "1"
        ],
        [
         "23",
         "3638-WEABW",
         "2015-04-01 00:00:00",
         null,
         "Two year",
         "59.9",
         "3505.1",
         "0"
        ],
        [
         "24",
         "6322-HRPFA",
         "2016-01-01 00:00:00",
         null,
         "Month-to-month",
         "59.6",
         "2970.3",
         "0"
        ],
        [
         "25",
         "6865-JZNKO",
         "2017-08-01 00:00:00",
         null,
         "Month-to-month",
         "55.3",
         "1530.6",
         "0"
        ],
        [
         "26",
         "6467-CHFZW",
         "2015-12-01 00:00:00",
         "2019-11-01 00:00:00",
         "Month-to-month",
         "99.35",
         "4749.15",
         "1"
        ],
        [
         "27",
         "8665-UTDHZ",
         "2019-11-01 00:00:00",
         "2019-12-01 00:00:00",
         "Month-to-month",
         "30.2",
         "30.2",
         "1"
        ],
        [
         "28",
         "5248-YGIJN",
         "2014-02-01 00:00:00",
         null,
         "Two year",
         "90.25",
         "6369.45",
         "0"
        ],
        [
         "29",
         "8773-HHUOZ",
         "2018-06-01 00:00:00",
         "2019-11-01 00:00:00",
         "Month-to-month",
         "64.7",
         "1093.1",
         "1"
        ],
        [
         "30",
         "3841-NFECX",
         "2014-03-01 00:00:00",
         null,
         "Two year",
         "96.35",
         "6766.95",
         "0"
        ],
        [
         "31",
         "4929-XIHVW",
         "2019-12-01 00:00:00",
         null,
         "Month-to-month",
         "95.5",
         "181.65",
         "0"
        ],
        [
         "32",
         "6827-IEAUQ",
         "2017-11-01 00:00:00",
         null,
         "One year",
         "66.15",
         "1874.45",
         "0"
        ],
        [
         "33",
         "7310-EGVHZ",
         "2020-01-01 00:00:00",
         null,
         "Month-to-month",
         "20.2",
         "20.2",
         "0"
        ],
        [
         "34",
         "3413-BMNZE",
         "2020-01-01 00:00:00",
         null,
         "Month-to-month",
         "45.25",
         "45.25",
         "0"
        ],
        [
         "35",
         "6234-RAAPL",
         "2014-02-01 00:00:00",
         null,
         "Two year",
         "99.9",
         "7251.7",
         "0"
        ],
        [
         "36",
         "6047-YHPVI",
         "2019-06-01 00:00:00",
         "2019-11-01 00:00:00",
         "Month-to-month",
         "69.7",
         "316.9",
         "1"
        ],
        [
         "37",
         "6572-ADKRS",
         "2016-04-01 00:00:00",
         null,
         "Month-to-month",
         "74.8",
         "3548.3",
         "0"
        ],
        [
         "38",
         "5380-WJKOV",
         "2017-02-01 00:00:00",
         "2019-12-01 00:00:00",
         "Month-to-month",
         "106.35",
         "3549.25",
         "1"
        ],
        [
         "39",
         "8168-UQWWF",
         "2018-12-01 00:00:00",
         "2019-11-01 00:00:00",
         "Month-to-month",
         "97.85",
         "1105.4",
         "1"
        ],
        [
         "40",
         "8865-TNMNX",
         "2019-04-01 00:00:00",
         null,
         "One year",
         "49.55",
         "475.7",
         "0"
        ],
        [
         "41",
         "9489-DEDVP",
         "2014-04-01 00:00:00",
         null,
         "Two year",
         "69.2",
         "4872.35",
         "0"
        ],
        [
         "42",
         "9867-JCZSP",
         "2018-09-01 00:00:00",
         null,
         "One year",
         "20.75",
         "418.25",
         "0"
        ],
        [
         "43",
         "4671-VJLCL",
         "2014-11-01 00:00:00",
         null,
         "Two year",
         "79.85",
         "4861.45",
         "0"
        ],
        [
         "44",
         "4080-IIARD",
         "2019-01-01 00:00:00",
         null,
         "Month-to-month",
         "76.2",
         "981.45",
         "0"
        ],
        [
         "45",
         "3714-NTNFO",
         "2016-01-01 00:00:00",
         null,
         "Month-to-month",
         "84.5",
         "3906.7",
         "0"
        ],
        [
         "46",
         "5948-UJZLF",
         "2019-12-01 00:00:00",
         null,
         "Month-to-month",
         "49.25",
         "97.0",
         "0"
        ],
        [
         "47",
         "7760-OYPDY",
         "2019-11-01 00:00:00",
         "2020-01-01 00:00:00",
         "Month-to-month",
         "80.65",
         "144.15",
         "1"
        ],
        [
         "48",
         "7639-LIAYI",
         "2015-10-01 00:00:00",
         null,
         "Two year",
         "79.75",
         "4217.8",
         "0"
        ],
        [
         "49",
         "2954-PIBKO",
         "2014-05-01 00:00:00",
         null,
         "Two year",
         "64.15",
         "4254.1",
         "0"
        ]
       ],
       "shape": {
        "columns": 7,
        "rows": 7043
       }
      },
      "text/html": [
       "<div>\n",
       "<style scoped>\n",
       "    .dataframe tbody tr th:only-of-type {\n",
       "        vertical-align: middle;\n",
       "    }\n",
       "\n",
       "    .dataframe tbody tr th {\n",
       "        vertical-align: top;\n",
       "    }\n",
       "\n",
       "    .dataframe thead th {\n",
       "        text-align: right;\n",
       "    }\n",
       "</style>\n",
       "<table border=\"1\" class=\"dataframe\">\n",
       "  <thead>\n",
       "    <tr style=\"text-align: right;\">\n",
       "      <th></th>\n",
       "      <th>customerID</th>\n",
       "      <th>BeginDate</th>\n",
       "      <th>EndDate</th>\n",
       "      <th>Type</th>\n",
       "      <th>MonthlyCharges</th>\n",
       "      <th>TotalCharges</th>\n",
       "      <th>Churn</th>\n",
       "    </tr>\n",
       "  </thead>\n",
       "  <tbody>\n",
       "    <tr>\n",
       "      <th>0</th>\n",
       "      <td>7590-VHVEG</td>\n",
       "      <td>2020-01-01</td>\n",
       "      <td>NaT</td>\n",
       "      <td>Month-to-month</td>\n",
       "      <td>29.85</td>\n",
       "      <td>29.85</td>\n",
       "      <td>0</td>\n",
       "    </tr>\n",
       "    <tr>\n",
       "      <th>1</th>\n",
       "      <td>5575-GNVDE</td>\n",
       "      <td>2017-04-01</td>\n",
       "      <td>NaT</td>\n",
       "      <td>One year</td>\n",
       "      <td>56.95</td>\n",
       "      <td>1889.50</td>\n",
       "      <td>0</td>\n",
       "    </tr>\n",
       "    <tr>\n",
       "      <th>2</th>\n",
       "      <td>3668-QPYBK</td>\n",
       "      <td>2019-10-01</td>\n",
       "      <td>2019-12-01</td>\n",
       "      <td>Month-to-month</td>\n",
       "      <td>53.85</td>\n",
       "      <td>108.15</td>\n",
       "      <td>1</td>\n",
       "    </tr>\n",
       "    <tr>\n",
       "      <th>3</th>\n",
       "      <td>7795-CFOCW</td>\n",
       "      <td>2016-05-01</td>\n",
       "      <td>NaT</td>\n",
       "      <td>One year</td>\n",
       "      <td>42.30</td>\n",
       "      <td>1840.75</td>\n",
       "      <td>0</td>\n",
       "    </tr>\n",
       "    <tr>\n",
       "      <th>4</th>\n",
       "      <td>9237-HQITU</td>\n",
       "      <td>2019-09-01</td>\n",
       "      <td>2019-11-01</td>\n",
       "      <td>Month-to-month</td>\n",
       "      <td>70.70</td>\n",
       "      <td>151.65</td>\n",
       "      <td>1</td>\n",
       "    </tr>\n",
       "    <tr>\n",
       "      <th>...</th>\n",
       "      <td>...</td>\n",
       "      <td>...</td>\n",
       "      <td>...</td>\n",
       "      <td>...</td>\n",
       "      <td>...</td>\n",
       "      <td>...</td>\n",
       "      <td>...</td>\n",
       "    </tr>\n",
       "    <tr>\n",
       "      <th>7038</th>\n",
       "      <td>6840-RESVB</td>\n",
       "      <td>2018-02-01</td>\n",
       "      <td>NaT</td>\n",
       "      <td>One year</td>\n",
       "      <td>84.80</td>\n",
       "      <td>1990.50</td>\n",
       "      <td>0</td>\n",
       "    </tr>\n",
       "    <tr>\n",
       "      <th>7039</th>\n",
       "      <td>2234-XADUH</td>\n",
       "      <td>2014-02-01</td>\n",
       "      <td>NaT</td>\n",
       "      <td>One year</td>\n",
       "      <td>103.20</td>\n",
       "      <td>7362.90</td>\n",
       "      <td>0</td>\n",
       "    </tr>\n",
       "    <tr>\n",
       "      <th>7040</th>\n",
       "      <td>4801-JZAZL</td>\n",
       "      <td>2019-03-01</td>\n",
       "      <td>NaT</td>\n",
       "      <td>Month-to-month</td>\n",
       "      <td>29.60</td>\n",
       "      <td>346.45</td>\n",
       "      <td>0</td>\n",
       "    </tr>\n",
       "    <tr>\n",
       "      <th>7041</th>\n",
       "      <td>8361-LTMKD</td>\n",
       "      <td>2019-07-01</td>\n",
       "      <td>2019-11-01</td>\n",
       "      <td>Month-to-month</td>\n",
       "      <td>74.40</td>\n",
       "      <td>306.60</td>\n",
       "      <td>1</td>\n",
       "    </tr>\n",
       "    <tr>\n",
       "      <th>7042</th>\n",
       "      <td>3186-AJIEK</td>\n",
       "      <td>2014-08-01</td>\n",
       "      <td>NaT</td>\n",
       "      <td>Two year</td>\n",
       "      <td>105.65</td>\n",
       "      <td>6844.50</td>\n",
       "      <td>0</td>\n",
       "    </tr>\n",
       "  </tbody>\n",
       "</table>\n",
       "<p>7043 rows × 7 columns</p>\n",
       "</div>"
      ],
      "text/plain": [
       "      customerID  BeginDate    EndDate            Type  MonthlyCharges  \\\n",
       "0     7590-VHVEG 2020-01-01        NaT  Month-to-month           29.85   \n",
       "1     5575-GNVDE 2017-04-01        NaT        One year           56.95   \n",
       "2     3668-QPYBK 2019-10-01 2019-12-01  Month-to-month           53.85   \n",
       "3     7795-CFOCW 2016-05-01        NaT        One year           42.30   \n",
       "4     9237-HQITU 2019-09-01 2019-11-01  Month-to-month           70.70   \n",
       "...          ...        ...        ...             ...             ...   \n",
       "7038  6840-RESVB 2018-02-01        NaT        One year           84.80   \n",
       "7039  2234-XADUH 2014-02-01        NaT        One year          103.20   \n",
       "7040  4801-JZAZL 2019-03-01        NaT  Month-to-month           29.60   \n",
       "7041  8361-LTMKD 2019-07-01 2019-11-01  Month-to-month           74.40   \n",
       "7042  3186-AJIEK 2014-08-01        NaT        Two year          105.65   \n",
       "\n",
       "      TotalCharges  Churn  \n",
       "0            29.85      0  \n",
       "1          1889.50      0  \n",
       "2           108.15      1  \n",
       "3          1840.75      0  \n",
       "4           151.65      1  \n",
       "...            ...    ...  \n",
       "7038       1990.50      0  \n",
       "7039       7362.90      0  \n",
       "7040        346.45      0  \n",
       "7041        306.60      1  \n",
       "7042       6844.50      0  \n",
       "\n",
       "[7043 rows x 7 columns]"
      ]
     },
     "execution_count": 194,
     "metadata": {},
     "output_type": "execute_result"
    }
   ],
   "source": [
    "contract.drop(['PaperlessBilling','PaymentMethod'],axis=1)"
   ]
  },
  {
   "cell_type": "code",
   "execution_count": 195,
   "metadata": {},
   "outputs": [
    {
     "name": "stdout",
     "output_type": "stream",
     "text": [
      "      customerID  BeginDate EndDate      Type PaperlessBilling  \\\n",
      "488   4472-LVYGI 2020-02-01     NaT  Two year              Yes   \n",
      "753   3115-CZMZD 2020-02-01     NaT  Two year               No   \n",
      "936   5709-LVOEQ 2020-02-01     NaT  Two year               No   \n",
      "1082  4367-NUYAO 2020-02-01     NaT  Two year               No   \n",
      "1340  1371-DWPAZ 2020-02-01     NaT  Two year               No   \n",
      "3331  7644-OMVMY 2020-02-01     NaT  Two year               No   \n",
      "3826  3213-VVOLG 2020-02-01     NaT  Two year               No   \n",
      "4380  2520-SGTTA 2020-02-01     NaT  Two year               No   \n",
      "5218  2923-ARZLG 2020-02-01     NaT  One year              Yes   \n",
      "6670  4075-WKNIU 2020-02-01     NaT  Two year               No   \n",
      "6754  2775-SEFEE 2020-02-01     NaT  Two year              Yes   \n",
      "\n",
      "                  PaymentMethod  MonthlyCharges  TotalCharges  Churn  \n",
      "488   Bank transfer (automatic)           52.55           NaN      0  \n",
      "753                Mailed check           20.25           NaN      0  \n",
      "936                Mailed check           80.85           NaN      0  \n",
      "1082               Mailed check           25.75           NaN      0  \n",
      "1340    Credit card (automatic)           56.05           NaN      0  \n",
      "3331               Mailed check           19.85           NaN      0  \n",
      "3826               Mailed check           25.35           NaN      0  \n",
      "4380               Mailed check           20.00           NaN      0  \n",
      "5218               Mailed check           19.70           NaN      0  \n",
      "6670               Mailed check           73.35           NaN      0  \n",
      "6754  Bank transfer (automatic)           61.90           NaN      0  \n"
     ]
    }
   ],
   "source": [
    "print(contract[contract['TotalCharges'].isnull()])"
   ]
  },
  {
   "cell_type": "code",
   "execution_count": 196,
   "metadata": {},
   "outputs": [
    {
     "data": {
      "image/png": "[encoded data removed]",
      "text/plain": [
       "<Figure size 640x480 with 1 Axes>"
      ]
     },
     "metadata": {},
     "output_type": "display_data"
    }
   ],
   "source": [
    "# Gráfico\n",
    "sns.barplot(x='Churn', y='MonthlyCharges', data=contract)\n",
    "plt.title('Promedio de MonthlyCharges por estado de cliente')\n",
    "plt.xlabel('Cliente no se fue (0), cliente se fue (1)')\n",
    "plt.ylabel('Promedio de TotalCharges')\n",
    "plt.show()"
   ]
  },
  {
   "cell_type": "code",
   "execution_count": 197,
   "metadata": {},
   "outputs": [
    {
     "data": {
      "image/png": "[encoded data removed]",
      "text/plain": [
       "<Figure size 640x480 with 1 Axes>"
      ]
     },
     "metadata": {},
     "output_type": "display_data"
    }
   ],
   "source": [
    "sns.countplot(x='Type', hue='Churn', data=contract)\n",
    "plt.title('Tipo de contrato por estado de cliente')\n",
    "plt.xlabel('Tipo de contrato')\n",
    "plt.ylabel('Número de clientes')\n",
    "plt.xticks(rotation=45)\n",
    "plt.show()\n"
   ]
  },
  {
   "cell_type": "code",
   "execution_count": 198,
   "metadata": {},
   "outputs": [
    {
     "data": {
      "text/plain": [
       "<Axes: xlabel='BeginDate'>"
      ]
     },
     "execution_count": 198,
     "metadata": {},
     "output_type": "execute_result"
    },
    {
     "data": {
      "image/png": "[encoded data removed]",
      "text/plain": [
       "<Figure size 640x480 with 1 Axes>"
      ]
     },
     "metadata": {},
     "output_type": "display_data"
    }
   ],
   "source": [
    "contract['BeginDate'].dt.year.value_counts().sort_index().plot(kind='bar')"
   ]
  },
  {
   "cell_type": "markdown",
   "metadata": {},
   "source": [
    "### personal DF"
   ]
  },
  {
   "cell_type": "code",
   "execution_count": 199,
   "metadata": {},
   "outputs": [
    {
     "name": "stdout",
     "output_type": "stream",
     "text": [
      "Columnas con valores ausentes: customerID       0\n",
      "gender           0\n",
      "SeniorCitizen    0\n",
      "Partner          0\n",
      "Dependents       0\n",
      "dtype: int64\n",
      "\n",
      "Filas totalmente duplicadas: 0\n",
      "\n",
      "Duplicados en columna customerID: 0\n"
     ]
    }
   ],
   "source": [
    "df_error_checking(personal)"
   ]
  },
  {
   "cell_type": "markdown",
   "metadata": {},
   "source": [
    "### internet"
   ]
  },
  {
   "cell_type": "code",
   "execution_count": 200,
   "metadata": {},
   "outputs": [
    {
     "name": "stdout",
     "output_type": "stream",
     "text": [
      "Columnas con valores ausentes: customerID          0\n",
      "InternetService     0\n",
      "OnlineSecurity      0\n",
      "OnlineBackup        0\n",
      "DeviceProtection    0\n",
      "TechSupport         0\n",
      "StreamingTV         0\n",
      "StreamingMovies     0\n",
      "dtype: int64\n",
      "\n",
      "Filas totalmente duplicadas: 0\n",
      "\n",
      "Duplicados en columna customerID: 0\n"
     ]
    }
   ],
   "source": [
    "df_error_checking(internet)"
   ]
  },
  {
   "cell_type": "markdown",
   "metadata": {},
   "source": [
    "### phone"
   ]
  },
  {
   "cell_type": "code",
   "execution_count": 201,
   "metadata": {},
   "outputs": [
    {
     "name": "stdout",
     "output_type": "stream",
     "text": [
      "Columnas con valores ausentes: customerID       0\n",
      "MultipleLines    0\n",
      "dtype: int64\n",
      "\n",
      "Filas totalmente duplicadas: 0\n",
      "\n",
      "Duplicados en columna customerID: 0\n"
     ]
    }
   ],
   "source": [
    "df_error_checking(phone)"
   ]
  },
  {
   "cell_type": "markdown",
   "metadata": {},
   "source": [
    "cambiar tipo de datos de fechas\n",
    "eliminar columna paperlessbilling y paymentmethod"
   ]
  },
  {
   "cell_type": "markdown",
   "metadata": {},
   "source": [
    "Eliminación de atributos innecesarios y datos irrelevantes, corrección de valores ausentes y filas duplicadas."
   ]
  },
  {
   "cell_type": "markdown",
   "metadata": {},
   "source": [
    "## Enriquecimiento de datos"
   ]
  },
  {
   "cell_type": "code",
   "execution_count": 202,
   "metadata": {},
   "outputs": [],
   "source": [
    "df = contract.merge(personal, on='customerID', how='left')\n",
    "df = df.merge(internet,on='customerID', how = 'left')\n",
    "df = df.merge(phone, on='customerID', how = 'left')"
   ]
  },
  {
   "cell_type": "code",
   "execution_count": 203,
   "metadata": {},
   "outputs": [
    {
     "name": "stdout",
     "output_type": "stream",
     "text": [
      "<class 'pandas.core.frame.DataFrame'>\n",
      "RangeIndex: 7043 entries, 0 to 7042\n",
      "Data columns (total 21 columns):\n",
      " #   Column            Non-Null Count  Dtype         \n",
      "---  ------            --------------  -----         \n",
      " 0   customerID        7043 non-null   object        \n",
      " 1   BeginDate         7043 non-null   datetime64[ns]\n",
      " 2   EndDate           1869 non-null   datetime64[ns]\n",
      " 3   Type              7043 non-null   object        \n",
      " 4   PaperlessBilling  7043 non-null   object        \n",
      " 5   PaymentMethod     7043 non-null   object        \n",
      " 6   MonthlyCharges    7043 non-null   float64       \n",
      " 7   TotalCharges      7032 non-null   float64       \n",
      " 8   Churn             7043 non-null   int64         \n",
      " 9   gender            7043 non-null   object        \n",
      " 10  SeniorCitizen     7043 non-null   int64         \n",
      " 11  Partner           7043 non-null   object        \n",
      " 12  Dependents        7043 non-null   object        \n",
      " 13  InternetService   5517 non-null   object        \n",
      " 14  OnlineSecurity    5517 non-null   object        \n",
      " 15  OnlineBackup      5517 non-null   object        \n",
      " 16  DeviceProtection  5517 non-null   object        \n",
      " 17  TechSupport       5517 non-null   object        \n",
      " 18  StreamingTV       5517 non-null   object        \n",
      " 19  StreamingMovies   5517 non-null   object        \n",
      " 20  MultipleLines     6361 non-null   object        \n",
      "dtypes: datetime64[ns](2), float64(2), int64(2), object(15)\n",
      "memory usage: 1.1+ MB\n"
     ]
    }
   ],
   "source": [
    "df.info()"
   ]
  },
  {
   "cell_type": "markdown",
   "metadata": {},
   "source": [
    "### Resumen"
   ]
  },
  {
   "cell_type": "markdown",
   "metadata": {},
   "source": [
    "Resumen de pasos realizados en la etapa de procesamiento y exploración de datos"
   ]
  },
  {
   "cell_type": "markdown",
   "metadata": {
    "jp-MarkdownHeadingCollapsed": true,
    "tags": []
   },
   "source": [
    "# Modelado de datos"
   ]
  },
  {
   "cell_type": "markdown",
   "metadata": {},
   "source": [
    "## Funciones"
   ]
  },
  {
   "cell_type": "markdown",
   "metadata": {},
   "source": [
    "Creación de funciones que se vayan a utilizar constantemente en los modelos."
   ]
  },
  {
   "cell_type": "markdown",
   "metadata": {},
   "source": [
    "## Separación de datasets"
   ]
  },
  {
   "cell_type": "markdown",
   "metadata": {},
   "source": [
    "Training, valid y test."
   ]
  },
  {
   "cell_type": "markdown",
   "metadata": {},
   "source": [
    "## Modelos\n"
   ]
  },
  {
   "cell_type": "markdown",
   "metadata": {},
   "source": [
    "### Análisis de Resultados del modelos"
   ]
  },
  {
   "cell_type": "markdown",
   "metadata": {
    "jp-MarkdownHeadingCollapsed": true,
    "tags": []
   },
   "source": [
    "# Resumen y conclusiones finales"
   ]
  }
 ],
 "metadata": {
  "kernelspec": {
   "display_name": "base",
   "language": "python",
   "name": "python3"
  },
  "language_info": {
   "codemirror_mode": {
    "name": "ipython",
    "version": 3
   },
   "file_extension": ".py",
   "mimetype": "text/x-python",
   "name": "python",
   "nbconvert_exporter": "python",
   "pygments_lexer": "ipython3",
   "version": "3.11.11"
  },
  "toc": {
   "base_numbering": 1,
   "nav_menu": {},
   "number_sections": true,
   "sideBar": true,
   "skip_h1_title": true,
   "title_cell": "Table of Contents",
   "title_sidebar": "Contents",
   "toc_cell": false,
   "toc_position": {},
   "toc_section_display": true,
   "toc_window_display": false
  },
  "toc-autonumbering": true
 },
 "nbformat": 4,
 "nbformat_minor": 4
}
